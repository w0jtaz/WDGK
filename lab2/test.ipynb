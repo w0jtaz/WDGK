{
 "cells": [
  {
   "cell_type": "code",
   "execution_count": 13,
   "outputs": [
    {
     "ename": "AttributeError",
     "evalue": "ColorModel",
     "output_type": "error",
     "traceback": [
      "\u001B[1;31m---------------------------------------------------------------------------\u001B[0m",
      "\u001B[1;31mAttributeError\u001B[0m                            Traceback (most recent call last)",
      "Cell \u001B[1;32mIn [13], line 4\u001B[0m\n\u001B[0;32m      1\u001B[0m \u001B[38;5;28;01mfrom\u001B[39;00m \u001B[38;5;21;01mlab2\u001B[39;00m \u001B[38;5;28;01mimport\u001B[39;00m BaseImage, ColorModel\n\u001B[0;32m      2\u001B[0m \u001B[38;5;28;01mimport\u001B[39;00m \u001B[38;5;21;01mmatplotlib\u001B[39;00m\u001B[38;5;21;01m.\u001B[39;00m\u001B[38;5;21;01mpyplot\u001B[39;00m \u001B[38;5;28;01mas\u001B[39;00m \u001B[38;5;21;01mplt\u001B[39;00m\n\u001B[1;32m----> 4\u001B[0m img \u001B[38;5;241m=\u001B[39m BaseImage(\u001B[38;5;124m'\u001B[39m\u001B[38;5;124mlena.jpg\u001B[39m\u001B[38;5;124m'\u001B[39m, \u001B[43mColorModel\u001B[49m\u001B[38;5;241;43m.\u001B[39;49m\u001B[43mColorModel\u001B[49m\u001B[38;5;241m.\u001B[39mrgb)\n\u001B[0;32m      6\u001B[0m hsv \u001B[38;5;241m=\u001B[39m img\u001B[38;5;241m.\u001B[39mto_hsv()\n\u001B[0;32m      7\u001B[0m hsv\u001B[38;5;241m.\u001B[39mto_rgb()\n",
      "File \u001B[1;32m~\\AppData\\Local\\Programs\\Python\\Python310\\lib\\enum.py:429\u001B[0m, in \u001B[0;36mEnumMeta.__getattr__\u001B[1;34m(cls, name)\u001B[0m\n\u001B[0;32m    427\u001B[0m     \u001B[38;5;28;01mreturn\u001B[39;00m \u001B[38;5;28mcls\u001B[39m\u001B[38;5;241m.\u001B[39m_member_map_[name]\n\u001B[0;32m    428\u001B[0m \u001B[38;5;28;01mexcept\u001B[39;00m \u001B[38;5;167;01mKeyError\u001B[39;00m:\n\u001B[1;32m--> 429\u001B[0m     \u001B[38;5;28;01mraise\u001B[39;00m \u001B[38;5;167;01mAttributeError\u001B[39;00m(name) \u001B[38;5;28;01mfrom\u001B[39;00m \u001B[38;5;28mNone\u001B[39m\n",
      "\u001B[1;31mAttributeError\u001B[0m: ColorModel"
     ]
    }
   ],
   "source": [
    "from lab2 import BaseImage, ColorModel\n",
    "import matplotlib.pyplot as plt\n",
    "\n",
    "img = BaseImage('lena.jpg', ColorModel.ColorModel.rgb)\n",
    "\n",
    "hsv = img.to_hsv()\n",
    "hsv.to_rgb()\n",
    "\n",
    "\n",
    "\n"
   ],
   "metadata": {
    "collapsed": false
   }
  },
  {
   "cell_type": "code",
   "execution_count": null,
   "outputs": [],
   "source": [],
   "metadata": {
    "collapsed": false
   }
  }
 ],
 "metadata": {
  "kernelspec": {
   "display_name": "Python 3",
   "language": "python",
   "name": "python3"
  },
  "language_info": {
   "codemirror_mode": {
    "name": "ipython",
    "version": 2
   },
   "file_extension": ".py",
   "mimetype": "text/x-python",
   "name": "python",
   "nbconvert_exporter": "python",
   "pygments_lexer": "ipython2",
   "version": "2.7.6"
  }
 },
 "nbformat": 4,
 "nbformat_minor": 0
}
